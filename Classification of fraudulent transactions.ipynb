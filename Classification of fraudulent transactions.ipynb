{
 "cells": [
  {
   "cell_type": "markdown",
   "id": "954f82d7",
   "metadata": {},
   "source": [
    "### Импорт нужных библиотек"
   ]
  },
  {
   "cell_type": "code",
   "execution_count": 1,
   "id": "11a60138",
   "metadata": {},
   "outputs": [
    {
     "name": "stdout",
     "output_type": "stream",
     "text": [
      "Populating the interactive namespace from numpy and matplotlib\n"
     ]
    }
   ],
   "source": [
    "import numpy as np\n",
    "import pandas as pd\n",
    "import scipy as scipy\n",
    "\n",
    "from sklearn import model_selection, datasets, linear_model, metrics\n",
    "\n",
    "import matplotlib.pyplot as plt\n",
    "import seaborn as sns\n",
    "%matplotlib inline\n",
    "%pylab inline"
   ]
  },
  {
   "cell_type": "markdown",
   "id": "2d52921a",
   "metadata": {},
   "source": [
    "### Загрузка датасета"
   ]
  },
  {
   "cell_type": "code",
   "execution_count": 2,
   "id": "35051c97",
   "metadata": {},
   "outputs": [],
   "source": [
    "df = pd.read_csv('fraud_opers.csv', index_col=0)"
   ]
  },
  {
   "cell_type": "markdown",
   "id": "b466a3bf",
   "metadata": {},
   "source": [
    "### Предобработка данных"
   ]
  },
  {
   "cell_type": "code",
   "execution_count": 3,
   "id": "59a38931",
   "metadata": {},
   "outputs": [
    {
     "data": {
      "text/html": [
       "<div>\n",
       "<style scoped>\n",
       "    .dataframe tbody tr th:only-of-type {\n",
       "        vertical-align: middle;\n",
       "    }\n",
       "\n",
       "    .dataframe tbody tr th {\n",
       "        vertical-align: top;\n",
       "    }\n",
       "\n",
       "    .dataframe thead th {\n",
       "        text-align: right;\n",
       "    }\n",
       "</style>\n",
       "<table border=\"1\" class=\"dataframe\">\n",
       "  <thead>\n",
       "    <tr style=\"text-align: right;\">\n",
       "      <th></th>\n",
       "      <th>Time</th>\n",
       "      <th>V1</th>\n",
       "      <th>V2</th>\n",
       "      <th>V3</th>\n",
       "      <th>V4</th>\n",
       "      <th>V5</th>\n",
       "      <th>V6</th>\n",
       "      <th>V7</th>\n",
       "      <th>V8</th>\n",
       "      <th>V9</th>\n",
       "      <th>...</th>\n",
       "      <th>V21</th>\n",
       "      <th>V22</th>\n",
       "      <th>V23</th>\n",
       "      <th>V24</th>\n",
       "      <th>V25</th>\n",
       "      <th>V26</th>\n",
       "      <th>V27</th>\n",
       "      <th>V28</th>\n",
       "      <th>Amount</th>\n",
       "      <th>Class</th>\n",
       "    </tr>\n",
       "  </thead>\n",
       "  <tbody>\n",
       "    <tr>\n",
       "      <th>93628</th>\n",
       "      <td>7577.0</td>\n",
       "      <td>-0.318075</td>\n",
       "      <td>1.062283</td>\n",
       "      <td>1.759506</td>\n",
       "      <td>1.003932</td>\n",
       "      <td>0.426871</td>\n",
       "      <td>0.449983</td>\n",
       "      <td>0.604184</td>\n",
       "      <td>-0.124242</td>\n",
       "      <td>0.680586</td>\n",
       "      <td>...</td>\n",
       "      <td>-0.199046</td>\n",
       "      <td>-0.065634</td>\n",
       "      <td>-0.163249</td>\n",
       "      <td>-0.574275</td>\n",
       "      <td>-0.229511</td>\n",
       "      <td>-0.414992</td>\n",
       "      <td>0.214577</td>\n",
       "      <td>-0.031305</td>\n",
       "      <td>36.00</td>\n",
       "      <td>0</td>\n",
       "    </tr>\n",
       "    <tr>\n",
       "      <th>126144</th>\n",
       "      <td>147017.0</td>\n",
       "      <td>2.011594</td>\n",
       "      <td>-1.073354</td>\n",
       "      <td>-0.713937</td>\n",
       "      <td>-0.649853</td>\n",
       "      <td>-0.699839</td>\n",
       "      <td>0.299173</td>\n",
       "      <td>-0.950702</td>\n",
       "      <td>0.134623</td>\n",
       "      <td>-0.263002</td>\n",
       "      <td>...</td>\n",
       "      <td>-0.580310</td>\n",
       "      <td>-1.301397</td>\n",
       "      <td>0.432775</td>\n",
       "      <td>0.139274</td>\n",
       "      <td>-0.720074</td>\n",
       "      <td>0.207722</td>\n",
       "      <td>-0.033734</td>\n",
       "      <td>-0.037526</td>\n",
       "      <td>64.90</td>\n",
       "      <td>0</td>\n",
       "    </tr>\n",
       "    <tr>\n",
       "      <th>20433</th>\n",
       "      <td>81723.0</td>\n",
       "      <td>1.265740</td>\n",
       "      <td>0.405756</td>\n",
       "      <td>-0.141166</td>\n",
       "      <td>1.122550</td>\n",
       "      <td>-0.066379</td>\n",
       "      <td>-1.218373</td>\n",
       "      <td>0.485565</td>\n",
       "      <td>-0.295400</td>\n",
       "      <td>-0.114928</td>\n",
       "      <td>...</td>\n",
       "      <td>-0.006241</td>\n",
       "      <td>-0.025107</td>\n",
       "      <td>-0.136889</td>\n",
       "      <td>0.377040</td>\n",
       "      <td>0.813843</td>\n",
       "      <td>-0.293395</td>\n",
       "      <td>-0.016050</td>\n",
       "      <td>0.009568</td>\n",
       "      <td>6.98</td>\n",
       "      <td>0</td>\n",
       "    </tr>\n",
       "    <tr>\n",
       "      <th>142035</th>\n",
       "      <td>90006.0</td>\n",
       "      <td>1.973892</td>\n",
       "      <td>-0.589606</td>\n",
       "      <td>0.043128</td>\n",
       "      <td>0.315322</td>\n",
       "      <td>-0.603262</td>\n",
       "      <td>0.571729</td>\n",
       "      <td>-1.240431</td>\n",
       "      <td>0.128551</td>\n",
       "      <td>2.830702</td>\n",
       "      <td>...</td>\n",
       "      <td>0.023322</td>\n",
       "      <td>0.435361</td>\n",
       "      <td>0.175779</td>\n",
       "      <td>0.035006</td>\n",
       "      <td>-0.466881</td>\n",
       "      <td>0.593365</td>\n",
       "      <td>-0.030438</td>\n",
       "      <td>-0.035833</td>\n",
       "      <td>34.90</td>\n",
       "      <td>0</td>\n",
       "    </tr>\n",
       "    <tr>\n",
       "      <th>83963</th>\n",
       "      <td>70838.0</td>\n",
       "      <td>0.637828</td>\n",
       "      <td>-1.413198</td>\n",
       "      <td>0.698928</td>\n",
       "      <td>0.219555</td>\n",
       "      <td>-1.420851</td>\n",
       "      <td>0.115959</td>\n",
       "      <td>-0.510338</td>\n",
       "      <td>0.213211</td>\n",
       "      <td>1.030303</td>\n",
       "      <td>...</td>\n",
       "      <td>0.071062</td>\n",
       "      <td>-0.360377</td>\n",
       "      <td>-0.231713</td>\n",
       "      <td>0.050643</td>\n",
       "      <td>-0.026698</td>\n",
       "      <td>0.967458</td>\n",
       "      <td>-0.101939</td>\n",
       "      <td>0.050154</td>\n",
       "      <td>297.78</td>\n",
       "      <td>0</td>\n",
       "    </tr>\n",
       "  </tbody>\n",
       "</table>\n",
       "<p>5 rows × 31 columns</p>\n",
       "</div>"
      ],
      "text/plain": [
       "            Time        V1        V2        V3        V4        V5        V6  \\\n",
       "93628     7577.0 -0.318075  1.062283  1.759506  1.003932  0.426871  0.449983   \n",
       "126144  147017.0  2.011594 -1.073354 -0.713937 -0.649853 -0.699839  0.299173   \n",
       "20433    81723.0  1.265740  0.405756 -0.141166  1.122550 -0.066379 -1.218373   \n",
       "142035   90006.0  1.973892 -0.589606  0.043128  0.315322 -0.603262  0.571729   \n",
       "83963    70838.0  0.637828 -1.413198  0.698928  0.219555 -1.420851  0.115959   \n",
       "\n",
       "              V7        V8        V9  ...       V21       V22       V23  \\\n",
       "93628   0.604184 -0.124242  0.680586  ... -0.199046 -0.065634 -0.163249   \n",
       "126144 -0.950702  0.134623 -0.263002  ... -0.580310 -1.301397  0.432775   \n",
       "20433   0.485565 -0.295400 -0.114928  ... -0.006241 -0.025107 -0.136889   \n",
       "142035 -1.240431  0.128551  2.830702  ...  0.023322  0.435361  0.175779   \n",
       "83963  -0.510338  0.213211  1.030303  ...  0.071062 -0.360377 -0.231713   \n",
       "\n",
       "             V24       V25       V26       V27       V28  Amount  Class  \n",
       "93628  -0.574275 -0.229511 -0.414992  0.214577 -0.031305   36.00      0  \n",
       "126144  0.139274 -0.720074  0.207722 -0.033734 -0.037526   64.90      0  \n",
       "20433   0.377040  0.813843 -0.293395 -0.016050  0.009568    6.98      0  \n",
       "142035  0.035006 -0.466881  0.593365 -0.030438 -0.035833   34.90      0  \n",
       "83963   0.050643 -0.026698  0.967458 -0.101939  0.050154  297.78      0  \n",
       "\n",
       "[5 rows x 31 columns]"
      ]
     },
     "execution_count": 3,
     "metadata": {},
     "output_type": "execute_result"
    }
   ],
   "source": [
    "# Посмотрим на первые 5 записей датасета\n",
    "df.head()"
   ]
  },
  {
   "cell_type": "code",
   "execution_count": 4,
   "id": "02bf9d8f",
   "metadata": {
    "scrolled": true
   },
   "outputs": [
    {
     "name": "stdout",
     "output_type": "stream",
     "text": [
      "<class 'pandas.core.frame.DataFrame'>\n",
      "Int64Index: 14265 entries, 93628 to 22414\n",
      "Data columns (total 31 columns):\n",
      " #   Column  Non-Null Count  Dtype  \n",
      "---  ------  --------------  -----  \n",
      " 0   Time    14265 non-null  float64\n",
      " 1   V1      14265 non-null  float64\n",
      " 2   V2      14265 non-null  float64\n",
      " 3   V3      14265 non-null  float64\n",
      " 4   V4      14265 non-null  float64\n",
      " 5   V5      14265 non-null  float64\n",
      " 6   V6      14265 non-null  float64\n",
      " 7   V7      14265 non-null  float64\n",
      " 8   V8      14265 non-null  float64\n",
      " 9   V9      14265 non-null  float64\n",
      " 10  V10     14265 non-null  float64\n",
      " 11  V11     14265 non-null  float64\n",
      " 12  V12     14265 non-null  float64\n",
      " 13  V13     14265 non-null  float64\n",
      " 14  V14     14265 non-null  float64\n",
      " 15  V15     14265 non-null  float64\n",
      " 16  V16     14265 non-null  float64\n",
      " 17  V17     14265 non-null  float64\n",
      " 18  V18     14265 non-null  float64\n",
      " 19  V19     14265 non-null  float64\n",
      " 20  V20     14265 non-null  float64\n",
      " 21  V21     14265 non-null  float64\n",
      " 22  V22     14265 non-null  float64\n",
      " 23  V23     14265 non-null  float64\n",
      " 24  V24     14265 non-null  float64\n",
      " 25  V25     14265 non-null  float64\n",
      " 26  V26     14265 non-null  float64\n",
      " 27  V27     14265 non-null  float64\n",
      " 28  V28     14265 non-null  float64\n",
      " 29  Amount  14265 non-null  float64\n",
      " 30  Class   14265 non-null  int64  \n",
      "dtypes: float64(30), int64(1)\n",
      "memory usage: 3.5 MB\n"
     ]
    }
   ],
   "source": [
    "# Проверим типы данных и наличие в них пропусков\n",
    "df.info()"
   ]
  },
  {
   "cell_type": "markdown",
   "id": "beb6be86",
   "metadata": {},
   "source": [
    "### Посмотрим на доли классов 0 и 1"
   ]
  },
  {
   "cell_type": "code",
   "execution_count": 5,
   "id": "c7b0460f",
   "metadata": {},
   "outputs": [
    {
     "data": {
      "text/plain": [
       "<AxesSubplot:>"
      ]
     },
     "execution_count": 5,
     "metadata": {},
     "output_type": "execute_result"
    },
    {
     "data": {
      "image/png": "[encoded data removed]",
      "text/plain": [
       "<Figure size 432x288 with 1 Axes>"
      ]
     },
     "metadata": {
      "needs_background": "light"
     },
     "output_type": "display_data"
    }
   ],
   "source": [
    "count_classes = pd.value_counts(df['Class'], sort = False)\n",
    "count_classes.plot (kind='bar')"
   ]
  },
  {
   "cell_type": "code",
   "execution_count": 6,
   "id": "18ef0205",
   "metadata": {},
   "outputs": [
    {
     "data": {
      "text/html": [
       "<div>\n",
       "<style scoped>\n",
       "    .dataframe tbody tr th:only-of-type {\n",
       "        vertical-align: middle;\n",
       "    }\n",
       "\n",
       "    .dataframe tbody tr th {\n",
       "        vertical-align: top;\n",
       "    }\n",
       "\n",
       "    .dataframe thead th {\n",
       "        text-align: right;\n",
       "    }\n",
       "</style>\n",
       "<table border=\"1\" class=\"dataframe\">\n",
       "  <thead>\n",
       "    <tr style=\"text-align: right;\">\n",
       "      <th></th>\n",
       "      <th>Нормальная операция</th>\n",
       "      <th>Мошенническая операция</th>\n",
       "    </tr>\n",
       "  </thead>\n",
       "  <tbody>\n",
       "    <tr>\n",
       "      <th>0</th>\n",
       "      <td>0.996986</td>\n",
       "      <td>0.003014</td>\n",
       "    </tr>\n",
       "  </tbody>\n",
       "</table>\n",
       "</div>"
      ],
      "text/plain": [
       "   Нормальная операция  Мошенническая операция\n",
       "0             0.996986                0.003014"
      ]
     },
     "execution_count": 6,
     "metadata": {},
     "output_type": "execute_result"
    }
   ],
   "source": [
    "norm_percentage = df['Class'].value_counts()[0]/(len(df))\n",
    "mosh_percentage = df['Class'].value_counts()[1]/(len(df))\n",
    "d = {'Нормальная операция': norm_percentage, 'Мошенническая операция': mosh_percentage}\n",
    "percentages = pd.DataFrame(data = d, index=[0])\n",
    "percentages"
   ]
  },
  {
   "cell_type": "markdown",
   "id": "653c78f4",
   "metadata": {},
   "source": [
    "Как мы видим у нас большой дисбаланс классов, что может плохо сказаться на результатах обучения."
   ]
  },
  {
   "cell_type": "markdown",
   "id": "8eca66dc",
   "metadata": {},
   "source": [
    "### Гистограммы для столбцов \"Amount\" и \"Time\""
   ]
  },
  {
   "cell_type": "code",
   "execution_count": 7,
   "id": "eeff120c",
   "metadata": {},
   "outputs": [
    {
     "name": "stderr",
     "output_type": "stream",
     "text": [
      "C:\\ProgramData\\Anaconda3\\lib\\site-packages\\seaborn\\distributions.py:2619: FutureWarning: `distplot` is a deprecated function and will be removed in a future version. Please adapt your code to use either `displot` (a figure-level function with similar flexibility) or `histplot` (an axes-level function for histograms).\n",
      "  warnings.warn(msg, FutureWarning)\n"
     ]
    },
    {
     "data": {
      "text/plain": [
       "<AxesSubplot:xlabel='Amount'>"
      ]
     },
     "execution_count": 7,
     "metadata": {},
     "output_type": "execute_result"
    },
    {
     "data": {
      "image/png": "[encoded data removed]",
      "text/plain": [
       "<Figure size 432x288 with 1 Axes>"
      ]
     },
     "metadata": {
      "needs_background": "light"
     },
     "output_type": "display_data"
    }
   ],
   "source": [
    "sns.distplot(df['Amount'], kde=False, color='red', bins=30)"
   ]
  },
  {
   "cell_type": "code",
   "execution_count": 8,
   "id": "2bf1f33c",
   "metadata": {},
   "outputs": [
    {
     "data": {
      "text/plain": [
       "<AxesSubplot:xlabel='Time'>"
      ]
     },
     "execution_count": 8,
     "metadata": {},
     "output_type": "execute_result"
    },
    {
     "data": {
      "image/png": "[encoded data removed]",
      "text/plain": [
       "<Figure size 432x288 with 1 Axes>"
      ]
     },
     "metadata": {
      "needs_background": "light"
     },
     "output_type": "display_data"
    }
   ],
   "source": [
    "sns.distplot(df['Time'], kde=False, color='blue', bins=30)"
   ]
  },
  {
   "cell_type": "markdown",
   "id": "7b10714b",
   "metadata": {},
   "source": [
    "Как можно видеть - столбцы необходимо отмасштабировать"
   ]
  },
  {
   "cell_type": "code",
   "execution_count": 9,
   "id": "7df1e2e7",
   "metadata": {},
   "outputs": [],
   "source": [
    "from sklearn.preprocessing import RobustScaler\n",
    "\n",
    "rob_scale = RobustScaler()\n",
    "\n",
    "df['scaled_amount']=rob_scale.fit_transform(df['Amount'].values.reshape(-1,1))\n",
    "df['scaled_Time']=rob_scale.fit_transform(df['Time'].values.reshape(-1,1))\n",
    "\n",
    "df.drop(['Amount','Time'], axis=1,inplace=True)"
   ]
  },
  {
   "cell_type": "markdown",
   "id": "c83dbe5e",
   "metadata": {},
   "source": [
    "### Обучение модели"
   ]
  },
  {
   "cell_type": "code",
   "execution_count": 108,
   "id": "de14e456",
   "metadata": {},
   "outputs": [],
   "source": [
    "from sklearn.model_selection import train_test_split\n",
    "train_set, test_set = train_test_split(df, test_size=0.2)"
   ]
  },
  {
   "cell_type": "code",
   "execution_count": 109,
   "id": "c0e05405",
   "metadata": {},
   "outputs": [
    {
     "data": {
      "text/plain": [
       "0    11373\n",
       "1       39\n",
       "Name: Class, dtype: int64"
      ]
     },
     "execution_count": 109,
     "metadata": {},
     "output_type": "execute_result"
    }
   ],
   "source": [
    "train_set['Class'].value_counts()"
   ]
  },
  {
   "cell_type": "code",
   "execution_count": 110,
   "id": "6e41c297",
   "metadata": {},
   "outputs": [],
   "source": [
    "norm_instances = train_set[train_set['Class'] == 0]\n",
    "mosh_instances = train_set[train_set['Class'] == 1]"
   ]
  },
  {
   "cell_type": "markdown",
   "id": "9f802f73",
   "metadata": {},
   "source": [
    "Поскольку мы имеем дело с несбалансированностью данных, было принято решение использовать undersampling обучающих данных,\n",
    "иначе бы мы получили неверные метрики."
   ]
  },
  {
   "cell_type": "code",
   "execution_count": 111,
   "id": "f5742143",
   "metadata": {},
   "outputs": [],
   "source": [
    "#norm_instances_sample = norm_instances.sample(n = 3*(len(mosh_instances)))"
   ]
  },
  {
   "cell_type": "code",
   "execution_count": 112,
   "id": "c69f80cb",
   "metadata": {},
   "outputs": [
    {
     "data": {
      "text/plain": [
       "(156, 31)"
      ]
     },
     "execution_count": 112,
     "metadata": {},
     "output_type": "execute_result"
    }
   ],
   "source": [
    "#train_reduced = pd.concat([norm_instances_sample,mosh_instances], axis = 0)\n",
    "#train_reduced.shape"
   ]
  },
  {
   "cell_type": "code",
   "execution_count": 133,
   "id": "b5dd9e25",
   "metadata": {},
   "outputs": [],
   "source": [
    "train_y = train_set['Class']\n",
    "train_x = train_set.drop('Class', axis = 1)"
   ]
  },
  {
   "cell_type": "code",
   "execution_count": 134,
   "id": "09ac9ac0",
   "metadata": {},
   "outputs": [],
   "source": [
    "test_y = test_set['Class']\n",
    "test_x = test_set.drop('Class', axis = 1)"
   ]
  },
  {
   "cell_type": "markdown",
   "id": "c821a04f",
   "metadata": {},
   "source": [
    "Для обучения была использована простая логистическая регрессия, она неплохо справляется с классификацией на бинарных классах, \n",
    "тем более наши признаки вещественные числа."
   ]
  },
  {
   "cell_type": "code",
   "execution_count": 135,
   "id": "2304b12f",
   "metadata": {},
   "outputs": [],
   "source": [
    "from sklearn.linear_model import LogisticRegression\n",
    "from sklearn.model_selection import cross_val_score\n",
    "classifier = LogisticRegression(random_state = 23)\n",
    "classifier.fit(train_x, train_y)\n",
    "cv_score = cross_val_score(classifier, train_x, train_y, cv=5)"
   ]
  },
  {
   "cell_type": "code",
   "execution_count": 136,
   "id": "dcfc0834",
   "metadata": {},
   "outputs": [
    {
     "data": {
      "text/plain": [
       "0.998948406140267"
      ]
     },
     "execution_count": 136,
     "metadata": {},
     "output_type": "execute_result"
    }
   ],
   "source": [
    "cv_score.mean()"
   ]
  },
  {
   "cell_type": "markdown",
   "id": "dabb92e5",
   "metadata": {},
   "source": [
    "Получили хорошую метрику accuracy после кросс-валидации"
   ]
  },
  {
   "cell_type": "code",
   "execution_count": 144,
   "id": "7ccba2d9",
   "metadata": {},
   "outputs": [],
   "source": [
    "train_y_pred = classifier.predict(train_x)"
   ]
  },
  {
   "cell_type": "code",
   "execution_count": 145,
   "id": "024113e8",
   "metadata": {},
   "outputs": [
    {
     "name": "stdout",
     "output_type": "stream",
     "text": [
      "0.9996494917630564\n"
     ]
    }
   ],
   "source": [
    "test_y_pred = classifier.predict(test_x)\n",
    "\n",
    "print(metrics.accuracy_score(test_y, test_y_pred))"
   ]
  },
  {
   "cell_type": "code",
   "execution_count": 139,
   "id": "693b82f9",
   "metadata": {},
   "outputs": [
    {
     "data": {
      "text/plain": [
       "array([[2848,    1],\n",
       "       [   0,    4]], dtype=int64)"
      ]
     },
     "execution_count": 139,
     "metadata": {},
     "output_type": "execute_result"
    }
   ],
   "source": [
    "from sklearn.metrics import confusion_matrix\n",
    "\n",
    "confusion_matrix(test_y, test_y_pred)"
   ]
  },
  {
   "cell_type": "code",
   "execution_count": 141,
   "id": "3c47470e",
   "metadata": {},
   "outputs": [
    {
     "name": "stdout",
     "output_type": "stream",
     "text": [
      "              precision    recall  f1-score   support\n",
      "\n",
      "           0       1.00      1.00      1.00      2849\n",
      "           1       0.80      1.00      0.89         4\n",
      "\n",
      "    accuracy                           1.00      2853\n",
      "   macro avg       0.90      1.00      0.94      2853\n",
      "weighted avg       1.00      1.00      1.00      2853\n",
      "\n"
     ]
    }
   ],
   "source": [
    "from sklearn.metrics import classification_report\n",
    "\n",
    "print(classification_report(test_y, test_y_pred))"
   ]
  },
  {
   "cell_type": "markdown",
   "id": "c1ecc2e2",
   "metadata": {},
   "source": [
    "Также на тестовых данных, судя по метрикам, алгоритм хорошо справился с классификацией. Построим ROC-кривую и рассчитаем AUC."
   ]
  },
  {
   "cell_type": "code",
   "execution_count": 142,
   "id": "8c160adb",
   "metadata": {},
   "outputs": [],
   "source": [
    "from sklearn.metrics import roc_curve\n",
    "fpr, tpr, thresholds = roc_curve(test_y, test_y_pred, pos_label = 1)\n",
    "roc_auc = metrics.auc(fpr, tpr)"
   ]
  },
  {
   "cell_type": "code",
   "execution_count": 143,
   "id": "5898b2d1",
   "metadata": {},
   "outputs": [
    {
     "data": {
      "image/png": "[encoded data removed]",
      "text/plain": [
       "<Figure size 432x288 with 1 Axes>"
      ]
     },
     "metadata": {
      "needs_background": "light"
     },
     "output_type": "display_data"
    }
   ],
   "source": [
    "plt.plot(fpr, tpr, color='red',\n",
    "         label='ROC кривая (area = %0.2f)' % roc_auc)\n",
    "plt.plot([0, 1], [0, 1], color='navy', linestyle='--')\n",
    "plt.xlim([0.0, 1.0])\n",
    "plt.ylim([0.0, 1.05])\n",
    "plt.xlabel('False Positive Rate')\n",
    "plt.ylabel('True Positive Rate')\n",
    "plt.title('Пример ROC-кривой')\n",
    "plt.legend(loc=\"lower right\")\n",
    "plt.show()"
   ]
  },
  {
   "cell_type": "markdown",
   "id": "68be57a1",
   "metadata": {},
   "source": [
    "Как можно видеть по метрикам качества и ROC-AUC классификатор отлично справился со своей задачей. В ходе решения было выяснено то, что нет смысла бороться с несбалансированностью классов путем undersampling'a, поскольку так алгоритм плохо справлялся с нужным нам предсказанием 1 класса (это было видно по метрикам precision и f1-score), то есть плохо предсказывал мошеннические операции."
   ]
  }
 ],
 "metadata": {
  "kernelspec": {
   "display_name": "Python 3 (ipykernel)",
   "language": "python",
   "name": "python3"
  },
  "language_info": {
   "codemirror_mode": {
    "name": "ipython",
    "version": 3
   },
   "file_extension": ".py",
   "mimetype": "text/x-python",
   "name": "python",
   "nbconvert_exporter": "python",
   "pygments_lexer": "ipython3",
   "version": "3.9.7"
  }
 },
 "nbformat": 4,
 "nbformat_minor": 5
}
